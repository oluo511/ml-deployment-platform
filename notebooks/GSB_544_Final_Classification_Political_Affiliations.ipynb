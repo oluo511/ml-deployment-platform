{
  "cells": [
    {
      "cell_type": "raw",
      "metadata": {
        "vscode": {
          "languageId": "raw"
        }
      },
      "source": [
        "---\n",
        "title: 'GSB 544 Final Classification: Political Affiliations'\n",
        "author: Oscar Luo\n",
        "format:\n",
        "    html:\n",
        "        toc: true\n",
        "        code-fold: true\n",
        "embed-resources: true\n",
        "---"
      ]
    },
    {
      "cell_type": "code",
      "execution_count": null,
      "metadata": {
        "id": "lO6LlvOhL4Qr"
      },
      "outputs": [],
      "source": [
        "import pandas as pd\n",
        "import numpy as np\n",
        "from sklearn.pipeline import Pipeline\n",
        "from sklearn.neighbors import KNeighborsClassifier, KNeighborsRegressor\n",
        "from sklearn.tree import DecisionTreeClassifier, DecisionTreeRegressor\n",
        "from sklearn.linear_model import LogisticRegression\n",
        "from sklearn.compose import make_column_selector, ColumnTransformer\n",
        "from sklearn.preprocessing import StandardScaler, OneHotEncoder, PolynomialFeatures\n",
        "from sklearn.model_selection import train_test_split, cross_val_score, GridSearchCV\n",
        "from sklearn.discriminant_analysis import LinearDiscriminantAnalysis, QuadraticDiscriminantAnalysis\n",
        "from sklearn.svm import SVC, LinearSVC\n",
        "from sklearn.metrics import accuracy_score"
      ]
    },
    {
      "cell_type": "code",
      "execution_count": null,
      "metadata": {
        "id": "_je3lRVFNRnO"
      },
      "outputs": [],
      "source": [
        "train = pd.read_csv('/content/CAH-201803-train.csv')\n",
        "test = pd.read_csv('/content/CAH-201803-test.csv')"
      ]
    },
    {
      "cell_type": "code",
      "execution_count": null,
      "metadata": {
        "colab": {
          "base_uri": "https://localhost:8080/"
        },
        "id": "Tq_BevTrNmv6",
        "outputId": "d5f45fb0-d68b-466f-9bfb-6887da5f0511"
      },
      "outputs": [
        {
          "name": "stdout",
          "output_type": "stream",
          "text": [
            "Validation Accuracy: 0.56\n"
          ]
        }
      ],
      "source": [
        "# Define X and y\n",
        "X = train.drop(columns=['id_num', 'political_affiliation'])\n",
        "y = train['political_affiliation']\n",
        "\n",
        "# Split data into training and validation sets\n",
        "X_train, X_val, y_train, y_val = train_test_split(X, y, test_size=0.2, random_state=42)\n",
        "\n",
        "# CT\n",
        "ct = ColumnTransformer([\n",
        "    (\"dummify\", OneHotEncoder(sparse_output = False, handle_unknown = \"ignore\"), make_column_selector(dtype_include=object)),\n",
        "     (\"standardize\", StandardScaler(), make_column_selector(dtype_include=np.number))\n",
        "])"
      ]
    },
    {
      "cell_type": "code",
      "execution_count": null,
      "metadata": {
        "colab": {
          "base_uri": "https://localhost:8080/"
        },
        "id": "4-UUYV8QmX0j",
        "outputId": "4a16de02-6d45-46cf-8ab7-dd5e71395fbb"
      },
      "outputs": [
        {
          "name": "stdout",
          "output_type": "stream",
          "text": [
            "Validation Accuracy: 0.56\n"
          ]
        }
      ],
      "source": [
        "# Logistic Regression Pipeline\n",
        "pipeline_lr = Pipeline(steps=[\n",
        "    ('preprocessing', ct),\n",
        "    ('model', LogisticRegression())\n",
        "])\n",
        "\n",
        "# Fit the pipeline\n",
        "pipeline_lr.fit(X_train, y_train)\n",
        "\n",
        "# Make predictions on the validation set\n",
        "y_val_pred = pipeline_lr.predict(X_val)\n",
        "\n",
        "# Evaluate model\n",
        "accuracy = accuracy_score(y_val, y_val_pred)\n",
        "print(f\"Validation Accuracy: {accuracy:.2f}\")"
      ]
    },
    {
      "cell_type": "code",
      "execution_count": null,
      "metadata": {
        "colab": {
          "base_uri": "https://localhost:8080/"
        },
        "id": "m4zW-UjwPXcL",
        "outputId": "53cde13b-5893-4a53-b0f0-4d8a7dad39b4"
      },
      "outputs": [
        {
          "name": "stdout",
          "output_type": "stream",
          "text": [
            "Cross-Validated Accuracy for LDA Model: 0.5980392156862744\n"
          ]
        }
      ],
      "source": [
        "# LDA Pipeline\n",
        "pipeline_lda = Pipeline(steps=[\n",
        "    ('preprocessing', ct),\n",
        "    ('model', LinearDiscriminantAnalysis())\n",
        "])\n",
        "\n",
        "# Fit the pipeline\n",
        "pipeline_lda.fit(X_train, y_train)\n",
        "\n",
        "# Perform cross-validation\n",
        "scores = cross_val_score(pipeline_lda, X, y, cv=5, scoring=\"accuracy\")\n",
        "\n",
        "# Calculate and display cross-validated accuracy\n",
        "cv_accuracy = scores.mean()\n",
        "print(\"Cross-Validated Accuracy for LDA Model:\", cv_accuracy)"
      ]
    },
    {
      "cell_type": "code",
      "execution_count": null,
      "metadata": {
        "colab": {
          "base_uri": "https://localhost:8080/"
        },
        "id": "tcHhOb1NQ-Uf",
        "outputId": "5af05237-ecf1-4f74-d82f-d8e81c89029a"
      },
      "outputs": [
        {
          "name": "stdout",
          "output_type": "stream",
          "text": [
            "Cross-Validated Accuracy for KNN Model: 0.4973262032085562\n"
          ]
        }
      ],
      "source": [
        "# KNN\n",
        "pipeline_knn = Pipeline(steps=[\n",
        "    ('preprocessing', ct),  # Preprocessing with ColumnTransformer\n",
        "    ('model', KNeighborsClassifier(n_neighbors=5))\n",
        "])\n",
        "\n",
        "# Perform cross-validation\n",
        "scores_knn = cross_val_score(pipeline_knn, X, y, cv=5, scoring=\"accuracy\")\n",
        "\n",
        "# Calculate cross-validated accuracy\n",
        "cv_accuracy_knn = scores_knn.mean()\n",
        "print(\"Cross-Validated Accuracy for KNN Model:\", cv_accuracy_knn)"
      ]
    },
    {
      "cell_type": "code",
      "execution_count": null,
      "metadata": {
        "colab": {
          "base_uri": "https://localhost:8080/"
        },
        "id": "nOQjNhDjP7Ut",
        "outputId": "ed2e2626-b143-40c9-faa4-bd3e8017dad1"
      },
      "outputs": [
        {
          "name": "stdout",
          "output_type": "stream",
          "text": [
            "Fitting 5 folds for each of 108 candidates, totalling 540 fits\n",
            "Best Parameters: {'model__C': 0.1, 'model__gamma': 'scale', 'model__kernel': 'linear'}\n",
            "Best Cross-Validated Accuracy: 0.6212121212121212\n"
          ]
        }
      ],
      "source": [
        "# SVM\n",
        "# Define hyperparameter grid\n",
        "param_grid = {\n",
        "    'model__C': [0.001, 0.01, 0.1, 1, 10, 100],\n",
        "    'model__kernel': ['linear', 'rbf', 'poly'],\n",
        "    'model__gamma': ['scale', 'auto', 0.001, 0.01, 0.1, 1]\n",
        "}\n",
        "\n",
        "# Define SVM pipeline\n",
        "pipeline_svm = Pipeline(steps=[\n",
        "    ('preprocessing', ct),\n",
        "    ('model', SVC(random_state=42))\n",
        "])\n",
        "\n",
        "# Perform GridSearchCV\n",
        "grid_search_svm = GridSearchCV(pipeline_svm, param_grid, cv=5, scoring=\"accuracy\", verbose=1)\n",
        "grid_search_svm.fit(X, y)\n",
        "\n",
        "# Best parameters and accuracy\n",
        "best_params = grid_search_svm.best_params_\n",
        "best_score = grid_search_svm.best_score_\n",
        "\n",
        "print(\"Best Parameters:\", best_params)\n",
        "print(\"Best Cross-Validated Accuracy:\", best_score)"
      ]
    },
    {
      "cell_type": "code",
      "execution_count": null,
      "metadata": {
        "id": "d9wxdOlDQ_Bl"
      },
      "outputs": [],
      "source": [
        "# Fit the best model on the full training dataset\n",
        "final_model_fit = grid_search_svm.best_estimator_\n",
        "final_model_fit.fit(X, y)\n",
        "\n",
        "final_predictions = pd.DataFrame({\n",
        "    \"id_num\": test['id_num'],\n",
        "    \"political_affiliation_predicted\": final_model_fit.predict(test.drop(columns=['id_num']))\n",
        "})\n",
        "final_predictions.to_csv(\"final_predictions.csv\", index=False)"
      ]
    },
    {
      "cell_type": "code",
      "execution_count": null,
      "metadata": {
        "colab": {
          "base_uri": "https://localhost:8080/"
        },
        "id": "MKy36cw5auaC",
        "outputId": "5484887d-8b55-4899-da3c-2e690d30943a"
      },
      "outputs": [
        {
          "name": "stdout",
          "output_type": "stream",
          "text": [
            "Fitting 5 folds for each of 90 candidates, totalling 450 fits\n",
            "Best Parameters for Polynomial Kernel SVM: {'model__C': 0.01, 'model__coef0': 10, 'model__degree': 3, 'model__gamma': 'auto'}\n",
            "Best Cross-Validated Accuracy for Polynomial Kernel SVM: 0.6213903743315508\n"
          ]
        }
      ],
      "source": [
        "pipeline_poly_svm = Pipeline(steps=[\n",
        "    ('preprocessing', ct),  # Preprocessing step\n",
        "    ('model', SVC(kernel='poly', random_state=42))\n",
        "])\n",
        "\n",
        "# Define hyperparameter grid for polynomial kernel\n",
        "param_grid_poly = {\n",
        "    'model__C': [0.001 ,0.01, 0.1, 1, 10],\n",
        "    'model__degree': [2, 3, 4],\n",
        "    'model__gamma': ['scale', 'auto'],\n",
        "    'model__coef0': [0, 1, 10]\n",
        "}\n",
        "\n",
        "# Perform GridSearchCV\n",
        "grid_search_poly = GridSearchCV(pipeline_poly_svm, param_grid_poly, cv=5, scoring=\"accuracy\", verbose=1)\n",
        "grid_search_poly.fit(X, y)\n",
        "\n",
        "# Best parameters and accuracy\n",
        "best_params_poly = grid_search_poly.best_params_\n",
        "best_score_poly = grid_search_poly.best_score_\n",
        "\n",
        "print(\"Best Parameters for Polynomial Kernel SVM:\", best_params_poly)\n",
        "print(\"Best Cross-Validated Accuracy for Polynomial Kernel SVM:\", best_score_poly)"
      ]
    },
    {
      "cell_type": "code",
      "execution_count": null,
      "metadata": {
        "id": "4lIpwehwbE9U"
      },
      "outputs": [],
      "source": [
        "# Fit best polynomial SVM model on training set\n",
        "final_model_fit_poly = grid_search_poly.best_estimator_\n",
        "final_model_fit_poly.fit(X, y)\n",
        "\n",
        "X_test = test.drop(columns=['id_num'])\n",
        "final_predictions2 = pd.DataFrame({\n",
        "    \"id_num\": test['id_num'],\n",
        "    \"political_affiliation_predicted\": final_model_fit_poly.predict(X_test)\n",
        "})\n",
        "final_predictions2.to_csv(\"final_predictions2.csv\", index=False)"
      ]
    },
    {
      "cell_type": "code",
      "execution_count": null,
      "metadata": {
        "colab": {
          "base_uri": "https://localhost:8080/"
        },
        "id": "lSoqcZ8JheUO",
        "outputId": "2c56e1e6-cb62-4404-e0c1-0b0cea8b4867"
      },
      "outputs": [
        {
          "name": "stdout",
          "output_type": "stream",
          "text": [
            "Fitting 5 folds for each of 20 candidates, totalling 100 fits\n",
            "Best Parameters for Logistic Regression: {'logistic__C': 1, 'logistic__penalty': 'l1', 'logistic__solver': 'saga'}\n",
            "Best Cross-Validated Accuracy for Logistic Regression: 0.6444444444444445\n"
          ]
        }
      ],
      "source": [
        "# LR tune\n",
        "pipeline_lr = Pipeline([\n",
        "    ('preprocessing', ct),\n",
        "    ('logistic', LogisticRegression(max_iter=10000, random_state=42))\n",
        "])\n",
        "\n",
        "# Hyperparameter grid\n",
        "param_grid_logistic = {\n",
        "    'logistic__C': [0.01, 0.1, 1, 10, 100],  # Regularization strength\n",
        "    'logistic__penalty': ['l1', 'l2'],       # L1 = Lasso, L2 = Ridge\n",
        "    'logistic__solver': ['liblinear', 'saga']  # Solvers that support L1 and L2\n",
        "}\n",
        "\n",
        "# Perform GridSearchCV\n",
        "grid_search_lr = GridSearchCV(pipeline_lr, param_grid_logistic, cv=5, scoring='accuracy', verbose=1, n_jobs=-1)\n",
        "grid_search_lr.fit(X_train, y_train)\n",
        "\n",
        "# Best Parameters and Cross-Validated Accuracy\n",
        "best_params_lr= grid_search_lr.best_params_\n",
        "best_score_lr = grid_search_lr.best_score_\n",
        "\n",
        "print(\"Best Parameters for Logistic Regression:\", best_params_lr)\n",
        "print(\"Best Cross-Validated Accuracy for Logistic Regression:\", best_score_lr)"
      ]
    },
    {
      "cell_type": "code",
      "execution_count": null,
      "metadata": {
        "id": "dBHlTC9bmw2e"
      },
      "outputs": [],
      "source": [
        "final_model_lr = grid_search_lr.best_estimator_\n",
        "final_model_lr.fit(X_train, y_train)\n",
        "\n",
        "\n",
        "X_test = test.drop(columns=['id_num'])\n",
        "final_predictions3 = pd.DataFrame({\n",
        "    \"id_num\": test['id_num'],\n",
        "    \"political_affiliation_predicted\": final_model_lr.predict(X_test)\n",
        "})\n",
        "final_predictions3.to_csv(\"final_predictions3.csv\", index=False)"
      ]
    }
  ],
  "metadata": {
    "colab": {
      "provenance": []
    },
    "kernelspec": {
      "display_name": "Python 3",
      "name": "python3"
    },
    "language_info": {
      "name": "python"
    }
  },
  "nbformat": 4,
  "nbformat_minor": 0
}
